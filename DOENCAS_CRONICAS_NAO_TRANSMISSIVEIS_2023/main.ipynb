{
 "cells": [
  {
   "cell_type": "markdown",
   "metadata": {},
   "source": [
    "# Doenças Cronicas não Transmissiveis"
   ]
  },
  {
   "cell_type": "markdown",
   "metadata": {},
   "source": [
    "Este estudo visa analisar os dados de óbitos por doenças crônicas não transmissíveis entre 2013 até 2023"
   ]
  },
  {
   "cell_type": "markdown",
   "metadata": {},
   "source": [
    "Perguntas Chave\n",
    "1. Quais são as taxas de mortalidade por diferentes tipos de DCNTs (ex: diabetes, doenças cardíacas, câncer) em diferentes regiões?\n",
    "2. Existem padrões sazonais ou temporais nas taxas de mortalidade por DCNTs?\n",
    "3. Quais são os grupos demográficos (ex: idade, gênero, etnia) mais afetados por diferentes DCNTs?\n",
    "4. Como fatores socioeconômicos (ex: renda, nível de educação, acesso a cuidados de saúde) estão correlacionados com as taxas de mortalidade por DCNTs?\n",
    "5. Existem disparidades geográficas significativas nas taxas de mortalidade por DCNTs?\n",
    "6. Como as taxas de mortalidade por DCNTs mudaram ao longo do tempo?\n",
    "7. Quais são os principais fatores de risco associados às DCNTs, de acordo com os dados disponíveis?\n",
    "8. Há diferenças significativas nas taxas de mortalidade por DCNTs entre áreas urbanas e rurais?\n",
    "\n",
    "Objetivos da Pesquisa\n",
    "* Identificar Padrões: Descobrir padrões e tendências nas taxas de mortalidade por DCNTs, tanto ao longo do tempo quanto entre diferentes grupos demográficos e geográficos.\n",
    "* Informar Políticas de Saúde: Fornecer insights baseados em dados para ajudar na formulação de políticas de saúde pública que visem reduzir as taxas de mortalidade por DCNTs.\n",
    "* Melhorar a Alocação de Recursos: Identificar áreas e grupos demográficos que necessitam de mais recursos e atenção para reduzir as disparidades nas taxas de mortalidade.\n",
    "* Promover a Prevenção: Identificar fatores de risco e promover estratégias de prevenção para diminuir a incidência de DCNTs.\n",
    "* Avaliar Intervenções: Avaliar a eficácia de intervenções e programas de saúde existentes voltados para a prevenção e tratamento de DCNTs.\n",
    "* Aumentar a Conscientização: Informar e educar a população sobre os riscos e a prevenção das DCNTs com base em evidências empíricas.\n"
   ]
  },
  {
   "cell_type": "markdown",
   "metadata": {},
   "source": [
    "---"
   ]
  },
  {
   "cell_type": "markdown",
   "metadata": {},
   "source": [
    "## importando bibliotecas"
   ]
  },
  {
   "cell_type": "code",
   "execution_count": 2,
   "metadata": {},
   "outputs": [],
   "source": [
    "import pandas as pd \n",
    "import numpy as np \n",
    "import matplotlib.pyplot as plt\n",
    "import seaborn as sns\n",
    "import os\n"
   ]
  },
  {
   "cell_type": "markdown",
   "metadata": {},
   "source": [
    "---"
   ]
  },
  {
   "cell_type": "markdown",
   "metadata": {},
   "source": [
    "## carregando dados"
   ]
  },
  {
   "cell_type": "code",
   "execution_count": 13,
   "metadata": {},
   "outputs": [],
   "source": [
    "datasets = {}\n",
    "\n",
    "# read every file in dados/\n",
    "for file in os.listdir('dados/'):\n",
    "    if file.endswith('.csv'):\n",
    "        datasets[file] = pd.read_csv('dados/' + file, delimiter=';')"
   ]
  },
  {
   "cell_type": "markdown",
   "metadata": {},
   "source": [
    "verificando valores nulos"
   ]
  },
  {
   "cell_type": "code",
   "execution_count": null,
   "metadata": {},
   "outputs": [],
   "source": [
    "for df_name, df in datasets.items():\n",
    "    print(df_name)\n",
    "    print(df.isnull().sum())\n",
    "    print(\"/////////////\")"
   ]
  },
  {
   "cell_type": "markdown",
   "metadata": {},
   "source": [
    "---"
   ]
  },
  {
   "cell_type": "markdown",
   "metadata": {},
   "source": [
    "## selecionando features"
   ]
  },
  {
   "cell_type": "code",
   "execution_count": null,
   "metadata": {},
   "outputs": [],
   "source": []
  }
 ],
 "metadata": {
  "kernelspec": {
   "display_name": "base",
   "language": "python",
   "name": "python3"
  },
  "language_info": {
   "codemirror_mode": {
    "name": "ipython",
    "version": 3
   },
   "file_extension": ".py",
   "mimetype": "text/x-python",
   "name": "python",
   "nbconvert_exporter": "python",
   "pygments_lexer": "ipython3",
   "version": "3.12.7"
  }
 },
 "nbformat": 4,
 "nbformat_minor": 2
}
